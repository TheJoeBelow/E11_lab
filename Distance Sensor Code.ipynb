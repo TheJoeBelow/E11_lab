{
 "cells": [
  {
   "cell_type": "markdown",
   "id": "2e062191",
   "metadata": {},
   "source": [
    "We need to create a directory in the raspberry pi system. I would suggest calling it distance_sensor.py"
   ]
  },
  {
   "cell_type": "markdown",
   "id": "9f883d33",
   "metadata": {},
   "source": [
    "This code should be able to be put into the raspberry pi. If not, it should be easily copyable."
   ]
  },
  {
   "cell_type": "code",
   "execution_count": null,
   "id": "5ed1c0e0",
   "metadata": {},
   "outputs": [],
   "source": [
    "#!/usr/bin/python3\n",
    "import RPi.GPIO as GPIO\n",
    "import time"
   ]
  },
  {
   "cell_type": "code",
   "execution_count": null,
   "id": "1c82064d",
   "metadata": {},
   "outputs": [],
   "source": [
    "try:\n",
    "    GPIO.setmode(GPIO.BOARD)\n",
    "\n",
    "      PIN_TRIGGER = ?\n",
    "      PIN_ECHO = ?\n",
    "#I'm not sure which pins we will use on your device, but the website recommends for the PIN_TRIGGER to be 7 and the PIN_ECHO to be 11.\n",
    "\n",
    "      GPIO.setup(PIN_TRIGGER, GPIO.OUT)\n",
    "      GPIO.setup(PIN_ECHO, GPIO.IN)\n",
    "          GPIO.output(PIN_TRIGGER, GPIO.LOW)\n",
    "\n",
    "              print (\"Waiting\")\n",
    "\n",
    "                time.sleep(2)\n",
    "#This can be whatever we want time sleep to be.\n",
    "\n",
    "print (\"Calculating Distance Between Sensor and the Source\")\n",
    "\n",
    "    GPIO.output(PIN_TRIGGER, GPIO.HIGH)\n",
    "        time.sleep(0.00001)\n",
    "    GPIO.output(PIN_TRIGGER, GPIO.LOW)\n",
    "\n",
    "while GPIO.input(PIN_ECHO)==0:\n",
    "            pulse_start_time = time.time()\n",
    "    while GPIO.input(PIN_ECHO)==1:\n",
    "            pulse_end_time = time.time()\n",
    "\n",
    "              pulse_duration = pulse_end_time - pulse_start_time\n",
    "\n",
    "                  distance = round(pulse_duration * 17150, 2)\n",
    "\n",
    "                      print (\"Distance:\",distance,\"cm\")\n",
    "\n",
    "#I'm still not quite familiar with arrays, so I'm not sure if you want to reformat our results. There's also sig figs, if you would like to add those too.\n",
    "\n",
    "finally:\n",
    "      GPIO.cleanup()"
   ]
  },
  {
   "cell_type": "markdown",
   "id": "1f7a490b",
   "metadata": {},
   "source": [
    "This sensor should be able to tell the distance between us and a source right? If so, should it be somewhat connected to the radiation detector on the breadboard? I'm still a little confused as to how we are programming the sensor to understand this, but this is the basic distance sensor code."
   ]
  }
 ],
 "metadata": {
  "kernelspec": {
   "display_name": "Python 3",
   "language": "python",
   "name": "python3"
  },
  "language_info": {
   "codemirror_mode": {
    "name": "ipython",
    "version": 3
   },
   "file_extension": ".py",
   "mimetype": "text/x-python",
   "name": "python",
   "nbconvert_exporter": "python",
   "pygments_lexer": "ipython3",
   "version": "3.8.8"
  }
 },
 "nbformat": 4,
 "nbformat_minor": 5
}
